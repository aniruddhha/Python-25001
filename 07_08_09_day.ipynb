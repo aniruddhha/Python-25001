{
  "nbformat": 4,
  "nbformat_minor": 0,
  "metadata": {
    "colab": {
      "provenance": []
    },
    "kernelspec": {
      "name": "python3",
      "display_name": "Python 3"
    },
    "language_info": {
      "name": "python"
    }
  },
  "cells": [
    {
      "cell_type": "markdown",
      "source": [
        "# **Day 07 Starts Here**\n",
        "\n",
        "Data Structures"
      ],
      "metadata": {
        "id": "1_TQrr-ia_t_"
      }
    },
    {
      "cell_type": "code",
      "source": [
        "# I want to strore marks of 5 students\n",
        "\n",
        "marks1 = 10\n",
        "marks2 = 20\n",
        "marks3 = 30\n",
        "marks4 = 40\n",
        "marks5 = 50"
      ],
      "metadata": {
        "id": "7YyiOFO9bDs5"
      },
      "execution_count": 1,
      "outputs": []
    },
    {
      "cell_type": "markdown",
      "source": [
        "- List\n",
        "- Tuple\n",
        "- Set\n",
        "- Dictionary"
      ],
      "metadata": {
        "id": "qRTIm4XScYFW"
      }
    },
    {
      "cell_type": "markdown",
      "source": [
        "## **List**"
      ],
      "metadata": {
        "id": "_tCPCIXed-BU"
      }
    },
    {
      "cell_type": "code",
      "source": [
        "marks = [] # you created the list\n",
        "marks = [40, 35, 80, 95, 90] # you created the list\n",
        "print(marks)"
      ],
      "metadata": {
        "colab": {
          "base_uri": "https://localhost:8080/"
        },
        "id": "6-D8XOtDc8p_",
        "outputId": "07c98984-ea7f-4240-f754-ae33084cbf58"
      },
      "execution_count": null,
      "outputs": [
        {
          "output_type": "stream",
          "name": "stdout",
          "text": [
            "[40, 35, 80, 95, 90]\n"
          ]
        }
      ]
    },
    {
      "cell_type": "code",
      "source": [
        "invoices = [1011, 'abc123', False, 123.88]\n",
        "\n",
        "print(f'1st Invoice is {invoices[0]}')\n",
        "print(f'2nd Invoice is {invoices[1]}')\n",
        "\n",
        "invoices.append(0)\n",
        "print(invoices)\n",
        "\n",
        "invoices[4] = 78756\n",
        "\n",
        "print(invoices)"
      ],
      "metadata": {
        "colab": {
          "base_uri": "https://localhost:8080/"
        },
        "id": "PD_v7AF7duGf",
        "outputId": "b2c437dc-9fb8-4933-86bd-2dc561b534ca"
      },
      "execution_count": null,
      "outputs": [
        {
          "output_type": "stream",
          "name": "stdout",
          "text": [
            "1st Invoice is 1011\n",
            "2nd Invoice is abc123\n",
            "[1011, 'abc123', False, 123.88, 0]\n",
            "[1011, 'abc123', False, 123.88, 78756]\n"
          ]
        }
      ]
    },
    {
      "cell_type": "code",
      "source": [
        "ops = ['abc', 'pqr', 'lmn', 'xyz', 'ppp']\n",
        "\n",
        "print(f'Size {len(ops)}')\n",
        "\n",
        "print(ops)\n",
        "ops.append('ccc')\n",
        "print(ops)\n",
        "\n",
        "ops.insert(1, 'rrr')\n",
        "print(ops)\n",
        "\n",
        "ops.remove('pqr')\n",
        "print(ops)\n",
        "\n",
        "ops.pop()\n",
        "print(ops)\n",
        "\n",
        "ops.pop(3)\n",
        "print(ops)\n"
      ],
      "metadata": {
        "colab": {
          "base_uri": "https://localhost:8080/"
        },
        "id": "78p18jdQknhH",
        "outputId": "5646deaa-8729-4868-d92c-35a260641880"
      },
      "execution_count": null,
      "outputs": [
        {
          "output_type": "stream",
          "name": "stdout",
          "text": [
            "Size 5\n",
            "['abc', 'pqr', 'lmn', 'xyz', 'ppp']\n",
            "['abc', 'pqr', 'lmn', 'xyz', 'ppp', 'ccc']\n",
            "['abc', 'rrr', 'pqr', 'lmn', 'xyz', 'ppp', 'ccc']\n",
            "['abc', 'rrr', 'lmn', 'xyz', 'ppp', 'ccc']\n",
            "['abc', 'rrr', 'lmn', 'xyz', 'ppp']\n",
            "['abc', 'rrr', 'lmn', 'ppp']\n"
          ]
        }
      ]
    },
    {
      "cell_type": "code",
      "source": [
        "print(ops[1])\n",
        "print(ops[-1])\n",
        "print(ops[-2])"
      ],
      "metadata": {
        "colab": {
          "base_uri": "https://localhost:8080/"
        },
        "id": "KXkRsPRRpgrk",
        "outputId": "72e09964-7767-45b3-9510-c67cb7a4945f"
      },
      "execution_count": null,
      "outputs": [
        {
          "output_type": "stream",
          "name": "stdout",
          "text": [
            "rrr\n",
            "ppp\n",
            "lmn\n"
          ]
        }
      ]
    },
    {
      "cell_type": "markdown",
      "source": [
        "## Slicing"
      ],
      "metadata": {
        "id": "m45I0ZPBqxL3"
      }
    },
    {
      "cell_type": "code",
      "source": [
        "# create list of 20 random numbers\n",
        "nums = [15, 3, 8, 20, 1, 12, 17, 5, 10, 19, 2, 14, 7, 11, 9, 18, 6, 16, 4, 13]\n",
        "\n",
        "# start:stop:step\n",
        "\n",
        "print(nums[3:6])\n",
        "\n",
        "print(nums[1:19:2])\n",
        "\n"
      ],
      "metadata": {
        "colab": {
          "base_uri": "https://localhost:8080/"
        },
        "id": "w2-2fR8jqIMR",
        "outputId": "ad758a14-a9be-494a-e88d-36e6331bcc83"
      },
      "execution_count": null,
      "outputs": [
        {
          "output_type": "stream",
          "name": "stdout",
          "text": [
            "[20, 1, 12]\n",
            "[3, 20, 12, 5, 19, 14, 11, 18, 16]\n"
          ]
        }
      ]
    },
    {
      "cell_type": "code",
      "source": [
        "print(nums[:7])"
      ],
      "metadata": {
        "colab": {
          "base_uri": "https://localhost:8080/"
        },
        "id": "YLYi7PQSth9E",
        "outputId": "8e412e66-ae36-4715-aadf-17737c7dab1f"
      },
      "execution_count": null,
      "outputs": [
        {
          "output_type": "stream",
          "name": "stdout",
          "text": [
            "[15, 3, 8, 20, 1, 12, 17]\n"
          ]
        }
      ]
    },
    {
      "cell_type": "code",
      "source": [
        "print(nums[::4])"
      ],
      "metadata": {
        "colab": {
          "base_uri": "https://localhost:8080/"
        },
        "id": "uLCtHklRtmJk",
        "outputId": "2ce8a187-b7dc-41b1-c725-8fcd71c2d0e6"
      },
      "execution_count": null,
      "outputs": [
        {
          "output_type": "stream",
          "name": "stdout",
          "text": [
            "[15, 1, 10, 7, 6]\n"
          ]
        }
      ]
    },
    {
      "cell_type": "code",
      "source": [
        "print(nums[::])"
      ],
      "metadata": {
        "colab": {
          "base_uri": "https://localhost:8080/"
        },
        "id": "mcEz1Sfxty1Z",
        "outputId": "d91dc8bd-52ef-4d60-a895-0bd9f4b0fbd2"
      },
      "execution_count": null,
      "outputs": [
        {
          "output_type": "stream",
          "name": "stdout",
          "text": [
            "[15, 3, 8, 20, 1, 12, 17, 5, 10, 19, 2, 14, 7, 11, 9, 18, 6, 16, 4, 13]\n"
          ]
        }
      ]
    },
    {
      "cell_type": "code",
      "source": [
        "print(nums)\n",
        "print(nums[:-1])"
      ],
      "metadata": {
        "colab": {
          "base_uri": "https://localhost:8080/"
        },
        "id": "qnuPncBRt5I4",
        "outputId": "28bbe3da-c370-4b1b-8725-9a37a82c1f08"
      },
      "execution_count": null,
      "outputs": [
        {
          "output_type": "stream",
          "name": "stdout",
          "text": [
            "[15, 3, 8, 20, 1, 12, 17, 5, 10, 19, 2, 14, 7, 11, 9, 18, 6, 16, 4, 13]\n",
            "[15, 3, 8, 20, 1, 12, 17, 5, 10, 19, 2, 14, 7, 11, 9, 18, 6, 16, 4]\n"
          ]
        }
      ]
    },
    {
      "cell_type": "code",
      "source": [
        "print(nums)\n",
        "print(nums[-1::-1])"
      ],
      "metadata": {
        "colab": {
          "base_uri": "https://localhost:8080/"
        },
        "id": "izT1wpn1uM8p",
        "outputId": "fc877a5c-2e00-435e-aa6b-77cbde43bca0"
      },
      "execution_count": null,
      "outputs": [
        {
          "output_type": "stream",
          "name": "stdout",
          "text": [
            "[15, 3, 8, 20, 1, 12, 17, 5, 10, 19, 2, 14, 7, 11, 9, 18, 6, 16, 4, 13]\n",
            "[13]\n"
          ]
        }
      ]
    },
    {
      "cell_type": "markdown",
      "source": [
        "# **Day 08 Starts Here**"
      ],
      "metadata": {
        "id": "Zx4WnM3gsFQ-"
      }
    },
    {
      "cell_type": "markdown",
      "source": [],
      "metadata": {
        "id": "L9f4Hz2b0YE0"
      }
    },
    {
      "cell_type": "markdown",
      "source": [
        "## *Tuple*"
      ],
      "metadata": {
        "id": "rOgNF0lNtBxF"
      }
    },
    {
      "cell_type": "code",
      "source": [
        "pincodes = (411021, 411038, 411078, 411036, 411052)\n",
        "print(pincodes)"
      ],
      "metadata": {
        "colab": {
          "base_uri": "https://localhost:8080/"
        },
        "id": "9DhWJ19ksaNt",
        "outputId": "bd49d5ce-1cda-4395-9271-81a82e272ce3"
      },
      "execution_count": null,
      "outputs": [
        {
          "output_type": "stream",
          "name": "stdout",
          "text": [
            "(411021, 411038, 411078, 411036, 411052)\n"
          ]
        }
      ]
    },
    {
      "cell_type": "code",
      "source": [
        "print(pincodes[0])"
      ],
      "metadata": {
        "colab": {
          "base_uri": "https://localhost:8080/"
        },
        "id": "q9NDfoRhtsuH",
        "outputId": "d2dfb191-2a5c-48be-8e1f-9bd457eeb628"
      },
      "execution_count": null,
      "outputs": [
        {
          "output_type": "stream",
          "name": "stdout",
          "text": [
            "411021\n"
          ]
        }
      ]
    },
    {
      "cell_type": "code",
      "source": [
        "pincodes[0] = 411035"
      ],
      "metadata": {
        "colab": {
          "base_uri": "https://localhost:8080/",
          "height": 144
        },
        "id": "fjp-8NsOtwBc",
        "outputId": "966736d0-2e0d-4fda-e7dd-6ec38d442874"
      },
      "execution_count": null,
      "outputs": [
        {
          "output_type": "error",
          "ename": "TypeError",
          "evalue": "'tuple' object does not support item assignment",
          "traceback": [
            "\u001b[0;31m---------------------------------------------------------------------------\u001b[0m",
            "\u001b[0;31mTypeError\u001b[0m                                 Traceback (most recent call last)",
            "\u001b[0;32m<ipython-input-3-89b2a57477f4>\u001b[0m in \u001b[0;36m<cell line: 0>\u001b[0;34m()\u001b[0m\n\u001b[0;32m----> 1\u001b[0;31m \u001b[0mpincodes\u001b[0m\u001b[0;34m[\u001b[0m\u001b[0;36m0\u001b[0m\u001b[0;34m]\u001b[0m \u001b[0;34m=\u001b[0m \u001b[0;36m411035\u001b[0m\u001b[0;34m\u001b[0m\u001b[0;34m\u001b[0m\u001b[0m\n\u001b[0m",
            "\u001b[0;31mTypeError\u001b[0m: 'tuple' object does not support item assignment"
          ]
        }
      ]
    },
    {
      "cell_type": "code",
      "source": [
        "nums = 1, 2, 3, 4, 6"
      ],
      "metadata": {
        "id": "dXFqYRnauBFA"
      },
      "execution_count": null,
      "outputs": []
    },
    {
      "cell_type": "code",
      "source": [
        "locs = 'mumbai', 'pune'"
      ],
      "metadata": {
        "id": "8ursL5_8uVSx"
      },
      "execution_count": null,
      "outputs": []
    },
    {
      "cell_type": "code",
      "source": [
        "x1 = locs[0]\n",
        "y1 = locs[1]\n",
        "print(x1, y1)"
      ],
      "metadata": {
        "colab": {
          "base_uri": "https://localhost:8080/"
        },
        "id": "67xFCNJDua84",
        "outputId": "37002fa6-e85a-48b4-d004-fb276b7d0585"
      },
      "execution_count": null,
      "outputs": [
        {
          "output_type": "stream",
          "name": "stdout",
          "text": [
            "mumbai pune\n"
          ]
        }
      ]
    },
    {
      "cell_type": "code",
      "source": [
        "x2, y2 = locs\n",
        "print(x2, y2)"
      ],
      "metadata": {
        "colab": {
          "base_uri": "https://localhost:8080/"
        },
        "id": "4IeHHCJ8ulvO",
        "outputId": "7d4214cc-a622-4cbc-f8ba-c6d82f462a9c"
      },
      "execution_count": null,
      "outputs": [
        {
          "output_type": "stream",
          "name": "stdout",
          "text": [
            "mumbai pune\n"
          ]
        }
      ]
    },
    {
      "cell_type": "markdown",
      "source": [
        "## *Set*"
      ],
      "metadata": {
        "id": "J654dOAJzXON"
      }
    },
    {
      "cell_type": "code",
      "source": [
        "st1 = { 100, 58, 2, 36 }\n",
        "print(st1)"
      ],
      "metadata": {
        "colab": {
          "base_uri": "https://localhost:8080/"
        },
        "id": "beVcCJDAzW8m",
        "outputId": "7dd9cc28-e59f-4730-810c-e59e0b240ae0"
      },
      "execution_count": null,
      "outputs": [
        {
          "output_type": "stream",
          "name": "stdout",
          "text": [
            "{58, 2, 100, 36}\n"
          ]
        }
      ]
    },
    {
      "cell_type": "code",
      "source": [
        "st1 = { 100, 58, 2, 36, 2 }\n",
        "print(st1)\n",
        "\n",
        "# print(st1[0])\n",
        "\n",
        "st1.add(789)\n",
        "print(st1)"
      ],
      "metadata": {
        "colab": {
          "base_uri": "https://localhost:8080/"
        },
        "id": "5KxDtal70Y7h",
        "outputId": "478aae60-4982-486b-a98c-8039b089b179"
      },
      "execution_count": null,
      "outputs": [
        {
          "output_type": "stream",
          "name": "stdout",
          "text": [
            "{58, 2, 100, 36}\n",
            "{2, 100, 36, 789, 58}\n"
          ]
        }
      ]
    },
    {
      "cell_type": "code",
      "source": [
        "s1 = { 1, 2, 3 }\n",
        "s2 = { 2,3, 4, 6 }\n",
        "\n",
        "print(s1.union(s2))\n",
        "print(s1.intersection(s2))\n",
        "print(s1.symmetric_difference(s2))"
      ],
      "metadata": {
        "colab": {
          "base_uri": "https://localhost:8080/"
        },
        "id": "JtAZUy6p1orM",
        "outputId": "c82d4d38-0c9c-4b20-bcf6-3ff02db7a6a3"
      },
      "execution_count": null,
      "outputs": [
        {
          "output_type": "stream",
          "name": "stdout",
          "text": [
            "{1, 2, 3, 4, 6}\n",
            "{2, 3}\n",
            "{1, 4, 6}\n"
          ]
        }
      ]
    },
    {
      "cell_type": "code",
      "source": [
        "s1 = { 1, 2, 3, 4, 5 }\n",
        "s2 = { 4, 5, 6, 7, 8 }\n",
        "s3 = { 5, 6, 7, 9, 10 }\n",
        "\n",
        "union_result = s1 | s2 | s3\n",
        "intersection_result = s1 & s2 & s3\n",
        "difference_result = s1 - s2 - s3\n",
        "\n",
        "print(union_result)\n",
        "print(intersection_result)\n",
        "print(difference_result)\n"
      ],
      "metadata": {
        "colab": {
          "base_uri": "https://localhost:8080/"
        },
        "id": "MQUGpgLP8Ql4",
        "outputId": "ae6e5022-4295-45f4-ce4b-cb9b34a6f6bf"
      },
      "execution_count": null,
      "outputs": [
        {
          "output_type": "stream",
          "name": "stdout",
          "text": [
            "{1, 2, 3, 4, 5, 6, 7, 8, 9, 10}\n",
            "{5}\n",
            "{1, 2, 3}\n"
          ]
        }
      ]
    },
    {
      "cell_type": "code",
      "source": [
        "print(s1 - s2)\n",
        "print(s1.difference(s2))\n",
        "print(s1.symmetric_difference(s2))"
      ],
      "metadata": {
        "colab": {
          "base_uri": "https://localhost:8080/"
        },
        "id": "i6oA63JC9fME",
        "outputId": "921aa999-30b7-455a-8150-58a19236096d"
      },
      "execution_count": null,
      "outputs": [
        {
          "output_type": "stream",
          "name": "stdout",
          "text": [
            "{1, 2, 3}\n",
            "{1, 2, 3}\n",
            "{1, 2, 3, 6, 7, 8}\n"
          ]
        }
      ]
    },
    {
      "cell_type": "markdown",
      "source": [
        "# **Day 09 Starts Here**"
      ],
      "metadata": {
        "id": "jRlFG-I2028l"
      }
    },
    {
      "cell_type": "markdown",
      "source": [
        "## *Dictionary*"
      ],
      "metadata": {
        "id": "GxFVYXg91G_y"
      }
    },
    {
      "cell_type": "code",
      "source": [
        "dc = {\n",
        "      \"age\" : 35,\n",
        "      \"id\" : 10,\n",
        "      \"balance\" : 10_000,\n",
        "      \"name\" : \"Abc\"\n",
        "    }"
      ],
      "metadata": {
        "id": "YzXCgW351GCI"
      },
      "execution_count": 2,
      "outputs": []
    },
    {
      "cell_type": "code",
      "source": [
        "print(f' Age of person is { dc[\"age\"]}')\n",
        "dc['age'] = 40\n",
        "print(f' Age of person is { dc[\"age\"]}')"
      ],
      "metadata": {
        "colab": {
          "base_uri": "https://localhost:8080/"
        },
        "id": "hTRki7Jg3Dn-",
        "outputId": "fdd07b61-713f-452f-de5f-51c5cbb2f64d"
      },
      "execution_count": 5,
      "outputs": [
        {
          "output_type": "stream",
          "name": "stdout",
          "text": [
            " Age of person is 40\n",
            " Age of person is 40\n"
          ]
        }
      ]
    },
    {
      "cell_type": "code",
      "source": [
        "print(dc)\n",
        "dc['city'] = 'lll'\n",
        "print(dc)"
      ],
      "metadata": {
        "colab": {
          "base_uri": "https://localhost:8080/"
        },
        "id": "2MyskcWl3Wcy",
        "outputId": "e1ad3be5-7ab8-412a-e995-6c9a9abf6623"
      },
      "execution_count": 6,
      "outputs": [
        {
          "output_type": "stream",
          "name": "stdout",
          "text": [
            "{'age': 40, 'id': 10, 'balance': 10000, 'name': 'Abc'}\n",
            "{'age': 40, 'id': 10, 'balance': 10000, 'name': 'Abc', 'city': 'lll'}\n"
          ]
        }
      ]
    },
    {
      "cell_type": "code",
      "source": [
        "dc = {\n",
        "      \"age\" : 35,\n",
        "      \"id\" : 10,\n",
        "      \"balance\" : 10_000,\n",
        "      \"name\" : \"Abc\",\n",
        "      \"age\": 40\n",
        "    }\n",
        "\n",
        "print(dc)"
      ],
      "metadata": {
        "colab": {
          "base_uri": "https://localhost:8080/"
        },
        "id": "SXzr1WkD4-ss",
        "outputId": "86284275-ec2d-4302-e14c-81da84b21213"
      },
      "execution_count": 8,
      "outputs": [
        {
          "output_type": "stream",
          "name": "stdout",
          "text": [
            "{'age': 40, 'id': 10, 'balance': 10000, 'name': 'Abc'}\n"
          ]
        }
      ]
    },
    {
      "cell_type": "markdown",
      "source": [
        "## *List Comprehension*"
      ],
      "metadata": {
        "id": "daWmGauR5p0h"
      }
    },
    {
      "cell_type": "code",
      "source": [
        "fruits = ['apple', 'banana', 'cherry', 'kiwi', 'mango']\n",
        "\n",
        "fruits_a = [] # empty list\n",
        "\n",
        "# for i in [1, 2, 3, 4]:\n",
        "#   print(i)\n",
        "\n",
        "for i in fruits:\n",
        "  # print(i)\n",
        "\n",
        "  if \"a\" in i:\n",
        "    print(i)\n",
        "    fruits_a.append(i)\n",
        "\n",
        "print(fruits_a)"
      ],
      "metadata": {
        "colab": {
          "base_uri": "https://localhost:8080/"
        },
        "id": "rhErz8825v3G",
        "outputId": "2ff32a05-c21b-4aa3-bbfd-6b8ab550e59b"
      },
      "execution_count": 15,
      "outputs": [
        {
          "output_type": "stream",
          "name": "stdout",
          "text": [
            "apple\n",
            "banana\n",
            "mango\n",
            "['apple', 'banana', 'mango']\n"
          ]
        }
      ]
    },
    {
      "cell_type": "code",
      "source": [
        "fruits = ['apple', 'banana', 'cherry', 'kiwi', 'mango']\n",
        "fruits_a = [i for i in fruits if \"a\" in i]\n",
        "print(fruits_a)"
      ],
      "metadata": {
        "colab": {
          "base_uri": "https://localhost:8080/"
        },
        "id": "ffsEPYuu8ROc",
        "outputId": "a6951238-e144-4cb7-cc69-dddea89410bb"
      },
      "execution_count": 21,
      "outputs": [
        {
          "output_type": "stream",
          "name": "stdout",
          "text": [
            "['apple', 'banana', 'mango']\n"
          ]
        }
      ]
    }
  ]
}