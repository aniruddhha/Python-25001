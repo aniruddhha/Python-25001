{
  "nbformat": 4,
  "nbformat_minor": 0,
  "metadata": {
    "colab": {
      "provenance": []
    },
    "kernelspec": {
      "name": "python3",
      "display_name": "Python 3"
    },
    "language_info": {
      "name": "python"
    }
  },
  "cells": [
    {
      "cell_type": "markdown",
      "source": [
        "# **Day 10**"
      ],
      "metadata": {
        "id": "OcLdjX3LVNYU"
      }
    },
    {
      "cell_type": "code",
      "source": [
        "speed = 0 # state\n",
        "angle = 0\n",
        "\n",
        "def speed_up(): # behaviour\n",
        "  global speed\n",
        "  speed += 1\n",
        "\n",
        "def slow_down():\n",
        "  speed -= 1\n",
        "\n",
        "def turn_left():\n",
        "  global angle\n",
        "  angle -= 30\n",
        "\n",
        "def turn_right():\n",
        "  angle -= -30\n",
        "\n",
        "def print_details():\n",
        "  print(speed, angle)\n",
        "\n",
        "speed_up()\n",
        "print_details()\n",
        "\n",
        "turn_left()\n",
        "print_details()"
      ],
      "metadata": {
        "colab": {
          "base_uri": "https://localhost:8080/"
        },
        "id": "E0CNqyAB8fNP",
        "outputId": "b382b16d-dea3-4fab-dece-1be4740afbb7"
      },
      "execution_count": null,
      "outputs": [
        {
          "output_type": "stream",
          "name": "stdout",
          "text": [
            "1 0\n",
            "1 -30\n"
          ]
        }
      ]
    },
    {
      "cell_type": "code",
      "source": [
        "class Car:\n",
        "\n",
        "  def __init__(self, speed, angle): # constructor\n",
        "    self.speed = speed\n",
        "    self.angle = angle\n",
        "\n",
        "  def speed_up(self): # behaviour\n",
        "    self.speed += 1\n",
        "\n",
        "  def slow_down(self): # behaviour\n",
        "    self.speed -= 1\n",
        "\n",
        "  def turn_left(self): # behaviour\n",
        "    self.angle -= 30\n",
        "\n",
        "  def turn_right(self): # behaviour\n",
        "      self.angle -= -30\n",
        "\n",
        "  def show_details(self): # this is our own function\n",
        "    print(self.speed, self.angle) # this is std python function"
      ],
      "metadata": {
        "id": "vM59uYhC6YwH"
      },
      "execution_count": null,
      "outputs": []
    },
    {
      "cell_type": "code",
      "source": [
        "c = Car(100, 0) # call -> object creation -> calls init function\n",
        "c.show_details()\n",
        "\n",
        "c.speed_up()\n",
        "c.show_details()\n",
        "\n",
        "c.turn_left()\n",
        "c.show_details()"
      ],
      "metadata": {
        "colab": {
          "base_uri": "https://localhost:8080/"
        },
        "id": "qQwA_yll7kpH",
        "outputId": "b598b8ee-71b3-4227-9f71-05e2d9fb89a8"
      },
      "execution_count": null,
      "outputs": [
        {
          "output_type": "stream",
          "name": "stdout",
          "text": [
            "100 0\n",
            "101 0\n",
            "101 -30\n"
          ]
        }
      ]
    },
    {
      "cell_type": "markdown",
      "source": [
        "# **Day 11**"
      ],
      "metadata": {
        "id": "nKTY5SQCVMPu"
      }
    },
    {
      "cell_type": "code",
      "source": [
        "d = Car(200, 0)\n",
        "d.show_details()\n",
        "d.speed_up()\n",
        "d.show_details()\n",
        "\n",
        "e = Car(300, 0)\n",
        "e.show_details()\n",
        "e.speed_up()\n",
        "e.show_details()"
      ],
      "metadata": {
        "id": "lL47MWuMVWIt"
      },
      "execution_count": null,
      "outputs": []
    },
    {
      "cell_type": "code",
      "source": [
        "class Animal: # super, base, parent\n",
        "  def __init__(self, name):\n",
        "    self.name = name # state\n",
        "\n",
        "  def walk(self):\n",
        "    print(self.name, \"is walking\")\n",
        "\n",
        "  def eat(self):\n",
        "    print(self.name, \"is eating\")"
      ],
      "metadata": {
        "id": "5-bIlBm7Yir4"
      },
      "execution_count": null,
      "outputs": []
    },
    {
      "cell_type": "code",
      "source": [
        "an = Animal('Abc')\n",
        "an.walk()\n",
        "an.eat()"
      ],
      "metadata": {
        "colab": {
          "base_uri": "https://localhost:8080/"
        },
        "id": "mH7U2cLEYsIB",
        "outputId": "d685e02d-f20f-4330-8ba6-af8dfee55b2f"
      },
      "execution_count": null,
      "outputs": [
        {
          "output_type": "stream",
          "name": "stdout",
          "text": [
            "Abc is walking\n",
            "Abc is eating\n"
          ]
        }
      ]
    },
    {
      "cell_type": "code",
      "source": [
        "class Tiger(Animal): # Tiger is an Animal. subclass, child, inherited\n",
        "  def __init__(self, name, color):\n",
        "    super().__init__(name) # call parent constructor\n",
        "    self.color = color # own state\n",
        "\n",
        "  def walk(self): # parents behaviour\n",
        "    print(\"Cat Family\")\n",
        "    print(self.name, \"is walking\")\n",
        "\n",
        "  def eat(self): # parents behaviour\n",
        "    print(\"Cat Family\")\n",
        "    print(self.name, \"is eating\")\n",
        "\n",
        "  def hunt(self): # own behaviour\n",
        "    print(self.name, \"is hunting\")"
      ],
      "metadata": {
        "id": "ZTqWll3kY0zs"
      },
      "execution_count": null,
      "outputs": []
    },
    {
      "cell_type": "code",
      "source": [
        "tg = Tiger('Tiger', 'White')\n",
        "tg.walk()\n",
        "tg.eat()\n",
        "tg.hunt()"
      ],
      "metadata": {
        "colab": {
          "base_uri": "https://localhost:8080/"
        },
        "id": "e-sSdkTsZX4Q",
        "outputId": "312a7559-ab13-456c-ddd9-20fb99700d6f"
      },
      "execution_count": null,
      "outputs": [
        {
          "output_type": "stream",
          "name": "stdout",
          "text": [
            "Cat Family\n",
            "Tiger is walking\n",
            "Cat Family\n",
            "Tiger is eating\n",
            "Tiger is hunting\n"
          ]
        }
      ]
    }
  ]
}