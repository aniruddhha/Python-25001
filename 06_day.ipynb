{
  "nbformat": 4,
  "nbformat_minor": 0,
  "metadata": {
    "colab": {
      "provenance": []
    },
    "kernelspec": {
      "name": "python3",
      "display_name": "Python 3"
    },
    "language_info": {
      "name": "python"
    }
  },
  "cells": [
    {
      "cell_type": "markdown",
      "source": [
        "# Day 06 Starts Here"
      ],
      "metadata": {
        "id": "5CceHec_qe2C"
      }
    },
    {
      "cell_type": "markdown",
      "source": [
        "# Loops"
      ],
      "metadata": {
        "id": "RvQpLDv8qjGw"
      }
    },
    {
      "cell_type": "code",
      "source": [
        "print('hey hi')\n",
        "print('hey hi')\n",
        "print('hey hi')\n",
        "print('hey hi')\n",
        "print('hey hi')"
      ],
      "metadata": {
        "colab": {
          "base_uri": "https://localhost:8080/"
        },
        "id": "eQQZze-jqiEv",
        "outputId": "a57ad216-8ad7-4930-d2b7-5ef751e4ae4d"
      },
      "execution_count": null,
      "outputs": [
        {
          "output_type": "stream",
          "name": "stdout",
          "text": [
            "hey hi\n",
            "hey hi\n",
            "hey hi\n",
            "hey hi\n"
          ]
        }
      ]
    },
    {
      "cell_type": "code",
      "execution_count": null,
      "metadata": {
        "id": "_fi0YYFHp58a"
      },
      "outputs": [],
      "source": [
        "def convert_to_inr(amt):\n",
        "  pass"
      ]
    },
    {
      "cell_type": "code",
      "source": [
        "convert_to_inr(10)\n",
        "convert_to_inr(10)\n",
        "convert_to_inr(10)\n",
        "convert_to_inr(10)\n",
        "convert_to_inr(10)"
      ],
      "metadata": {
        "id": "oDZ7uCnDrCep"
      },
      "execution_count": null,
      "outputs": []
    },
    {
      "cell_type": "markdown",
      "source": [
        "## For Loop"
      ],
      "metadata": {
        "id": "-_K6bknvrmMj"
      }
    },
    {
      "cell_type": "code",
      "source": [
        "for i in range(10):\n",
        "  print(f'hey hi {i}')"
      ],
      "metadata": {
        "colab": {
          "base_uri": "https://localhost:8080/"
        },
        "id": "Z9evb4drrkV8",
        "outputId": "7b50552a-f5be-4430-8ca1-c3d15c0134b7"
      },
      "execution_count": null,
      "outputs": [
        {
          "output_type": "stream",
          "name": "stdout",
          "text": [
            "hey hi 0\n",
            "hey hi 1\n",
            "hey hi 2\n",
            "hey hi 3\n",
            "hey hi 4\n",
            "hey hi 5\n",
            "hey hi 6\n",
            "hey hi 7\n",
            "hey hi 8\n",
            "hey hi 9\n"
          ]
        }
      ]
    },
    {
      "cell_type": "markdown",
      "source": [
        "## While Loop"
      ],
      "metadata": {
        "id": "twSAxkLBvBg6"
      }
    },
    {
      "cell_type": "code",
      "source": [
        "cntr = 0\n",
        "while cntr < 5:\n",
        "  print(cntr)\n",
        "  cntr +=1\n",
        "\n",
        "  # cntr = 0 cntr = 0 + 1\n",
        "  # cntr = 1 cntr = 1 + 1\n"
      ],
      "metadata": {
        "colab": {
          "base_uri": "https://localhost:8080/"
        },
        "id": "l1G-86-eux20",
        "outputId": "c4413b95-1af7-4285-f179-3930d1807636"
      },
      "execution_count": null,
      "outputs": [
        {
          "output_type": "stream",
          "name": "stdout",
          "text": [
            "0\n",
            "1\n",
            "2\n",
            "3\n",
            "4\n"
          ]
        }
      ]
    },
    {
      "cell_type": "code",
      "source": [
        "day = 11\n",
        "while True:\n",
        "  if day > 10:\n",
        "    break\n",
        "  print('End of the loop')"
      ],
      "metadata": {
        "id": "wCUM-KJoxmnt"
      },
      "execution_count": null,
      "outputs": []
    },
    {
      "cell_type": "code",
      "source": [
        "nm = input('Enter Your Name')\n",
        "print(f'My Name is {nm}')"
      ],
      "metadata": {
        "colab": {
          "base_uri": "https://localhost:8080/"
        },
        "id": "dag2Hfm3yZ50",
        "outputId": "25d0fc6c-8307-4cf9-baf5-088efee9be06"
      },
      "execution_count": null,
      "outputs": [
        {
          "output_type": "stream",
          "name": "stdout",
          "text": [
            "Enter Your Nameaniruddha\n",
            "My Name is aniruddha\n"
          ]
        }
      ]
    },
    {
      "cell_type": "code",
      "source": [
        "while True:\n",
        "  day = input('Enter Day : ')\n",
        "  if day == 'sun':\n",
        "    print('Today is Sunday and it is OFF')\n",
        "    break\n",
        "  print(f'Today is {day}')"
      ],
      "metadata": {
        "colab": {
          "base_uri": "https://localhost:8080/"
        },
        "id": "1nsRNa1yymZC",
        "outputId": "4552e4b2-54cd-4ec6-d0ea-3a19eae68194"
      },
      "execution_count": null,
      "outputs": [
        {
          "output_type": "stream",
          "name": "stdout",
          "text": [
            "Enter Day : wed\n",
            "Today is wed\n",
            "Enter Day : tue\n",
            "Today is tue\n",
            "Enter Day : sun\n",
            "Today is Sunday and it is OFF\n"
          ]
        }
      ]
    },
    {
      "cell_type": "code",
      "source": [
        "while True:\n",
        "  day = input('Enter Day : ')\n",
        "\n",
        "  if day != 'sun':\n",
        "    continue\n",
        "  else:\n",
        "    print(f'Today is {day}')\n"
      ],
      "metadata": {
        "colab": {
          "base_uri": "https://localhost:8080/",
          "height": 436
        },
        "id": "2qOTUqlSzJWs",
        "outputId": "ff55a5c2-a92f-4402-d664-ae7ae9a3abfb"
      },
      "execution_count": null,
      "outputs": [
        {
          "output_type": "stream",
          "name": "stdout",
          "text": [
            "Enter Day : wed\n",
            "Enter Day : mon\n",
            "Enter Day : sun\n",
            "Today is sun\n"
          ]
        },
        {
          "output_type": "error",
          "ename": "KeyboardInterrupt",
          "evalue": "Interrupted by user",
          "traceback": [
            "\u001b[0;31m---------------------------------------------------------------------------\u001b[0m",
            "\u001b[0;31mKeyboardInterrupt\u001b[0m                         Traceback (most recent call last)",
            "\u001b[0;32m<ipython-input-19-8324232ff626>\u001b[0m in \u001b[0;36m<cell line: 0>\u001b[0;34m()\u001b[0m\n\u001b[1;32m      1\u001b[0m \u001b[0;32mwhile\u001b[0m \u001b[0;32mTrue\u001b[0m\u001b[0;34m:\u001b[0m\u001b[0;34m\u001b[0m\u001b[0;34m\u001b[0m\u001b[0m\n\u001b[0;32m----> 2\u001b[0;31m   \u001b[0mday\u001b[0m \u001b[0;34m=\u001b[0m \u001b[0minput\u001b[0m\u001b[0;34m(\u001b[0m\u001b[0;34m'Enter Day : '\u001b[0m\u001b[0;34m)\u001b[0m\u001b[0;34m\u001b[0m\u001b[0;34m\u001b[0m\u001b[0m\n\u001b[0m\u001b[1;32m      3\u001b[0m \u001b[0;34m\u001b[0m\u001b[0m\n\u001b[1;32m      4\u001b[0m   \u001b[0;32mif\u001b[0m \u001b[0mday\u001b[0m \u001b[0;34m!=\u001b[0m \u001b[0;34m'sun'\u001b[0m\u001b[0;34m:\u001b[0m\u001b[0;34m\u001b[0m\u001b[0;34m\u001b[0m\u001b[0m\n\u001b[1;32m      5\u001b[0m     \u001b[0;32mcontinue\u001b[0m\u001b[0;34m\u001b[0m\u001b[0;34m\u001b[0m\u001b[0m\n",
            "\u001b[0;32m/usr/local/lib/python3.11/dist-packages/ipykernel/kernelbase.py\u001b[0m in \u001b[0;36mraw_input\u001b[0;34m(self, prompt)\u001b[0m\n\u001b[1;32m   1175\u001b[0m                 \u001b[0;34m\"raw_input was called, but this frontend does not support input requests.\"\u001b[0m\u001b[0;34m\u001b[0m\u001b[0;34m\u001b[0m\u001b[0m\n\u001b[1;32m   1176\u001b[0m             )\n\u001b[0;32m-> 1177\u001b[0;31m         return self._input_request(\n\u001b[0m\u001b[1;32m   1178\u001b[0m             \u001b[0mstr\u001b[0m\u001b[0;34m(\u001b[0m\u001b[0mprompt\u001b[0m\u001b[0;34m)\u001b[0m\u001b[0;34m,\u001b[0m\u001b[0;34m\u001b[0m\u001b[0;34m\u001b[0m\u001b[0m\n\u001b[1;32m   1179\u001b[0m             \u001b[0mself\u001b[0m\u001b[0;34m.\u001b[0m\u001b[0m_parent_ident\u001b[0m\u001b[0;34m[\u001b[0m\u001b[0;34m\"shell\"\u001b[0m\u001b[0;34m]\u001b[0m\u001b[0;34m,\u001b[0m\u001b[0;34m\u001b[0m\u001b[0;34m\u001b[0m\u001b[0m\n",
            "\u001b[0;32m/usr/local/lib/python3.11/dist-packages/ipykernel/kernelbase.py\u001b[0m in \u001b[0;36m_input_request\u001b[0;34m(self, prompt, ident, parent, password)\u001b[0m\n\u001b[1;32m   1217\u001b[0m             \u001b[0;32mexcept\u001b[0m \u001b[0mKeyboardInterrupt\u001b[0m\u001b[0;34m:\u001b[0m\u001b[0;34m\u001b[0m\u001b[0;34m\u001b[0m\u001b[0m\n\u001b[1;32m   1218\u001b[0m                 \u001b[0;31m# re-raise KeyboardInterrupt, to truncate traceback\u001b[0m\u001b[0;34m\u001b[0m\u001b[0;34m\u001b[0m\u001b[0m\n\u001b[0;32m-> 1219\u001b[0;31m                 \u001b[0;32mraise\u001b[0m \u001b[0mKeyboardInterrupt\u001b[0m\u001b[0;34m(\u001b[0m\u001b[0;34m\"Interrupted by user\"\u001b[0m\u001b[0;34m)\u001b[0m \u001b[0;32mfrom\u001b[0m \u001b[0;32mNone\u001b[0m\u001b[0;34m\u001b[0m\u001b[0;34m\u001b[0m\u001b[0m\n\u001b[0m\u001b[1;32m   1220\u001b[0m             \u001b[0;32mexcept\u001b[0m \u001b[0mException\u001b[0m\u001b[0;34m:\u001b[0m\u001b[0;34m\u001b[0m\u001b[0;34m\u001b[0m\u001b[0m\n\u001b[1;32m   1221\u001b[0m                 \u001b[0mself\u001b[0m\u001b[0;34m.\u001b[0m\u001b[0mlog\u001b[0m\u001b[0;34m.\u001b[0m\u001b[0mwarning\u001b[0m\u001b[0;34m(\u001b[0m\u001b[0;34m\"Invalid Message:\"\u001b[0m\u001b[0;34m,\u001b[0m \u001b[0mexc_info\u001b[0m\u001b[0;34m=\u001b[0m\u001b[0;32mTrue\u001b[0m\u001b[0;34m)\u001b[0m\u001b[0;34m\u001b[0m\u001b[0;34m\u001b[0m\u001b[0m\n",
            "\u001b[0;31mKeyboardInterrupt\u001b[0m: Interrupted by user"
          ]
        }
      ]
    },
    {
      "cell_type": "code",
      "source": [
        "num1 = input('Enter Num1 : ')\n",
        "print(type(num1))\n",
        "num2 = input('Enter Num2 : ')\n",
        "print(type(num2))\n",
        "\n",
        "res = num1 + num2\n",
        "\n",
        "print(res)"
      ],
      "metadata": {
        "colab": {
          "base_uri": "https://localhost:8080/"
        },
        "id": "ERyfv_8h3Wq2",
        "outputId": "60a4a07a-b52c-4a92-b3da-2a1a89f8d104"
      },
      "execution_count": null,
      "outputs": [
        {
          "output_type": "stream",
          "name": "stdout",
          "text": [
            "Enter Num1 : 12\n",
            "<class 'str'>\n",
            "Enter Num2 : 12\n",
            "<class 'str'>\n",
            "1212\n"
          ]
        }
      ]
    },
    {
      "cell_type": "code",
      "source": [
        "num1 = input('Enter Num1 : ')\n",
        "print(type(num1))\n",
        "num2 = input('Enter Num2 : ')\n",
        "print(type(num2))\n",
        "\n",
        "n1 = int(num1)\n",
        "print(type(n1))\n",
        "n2 = int(num2)\n",
        "print(type(n2))\n",
        "\n",
        "res = n1 + n2\n",
        "\n",
        "print(res)"
      ],
      "metadata": {
        "colab": {
          "base_uri": "https://localhost:8080/"
        },
        "id": "JMU8jdTC3h0M",
        "outputId": "9d03df66-24c7-46ae-cc4f-4764e868eb71"
      },
      "execution_count": null,
      "outputs": [
        {
          "output_type": "stream",
          "name": "stdout",
          "text": [
            "Enter Num1 : 12\n",
            "<class 'str'>\n",
            "Enter Num2 : 12\n",
            "<class 'str'>\n",
            "<class 'int'>\n",
            "<class 'int'>\n",
            "24\n"
          ]
        }
      ]
    },
    {
      "cell_type": "code",
      "source": [
        "print('Hello','hi', sep='->', end = 'Bye')"
      ],
      "metadata": {
        "colab": {
          "base_uri": "https://localhost:8080/"
        },
        "id": "C8jEEejC8GD7",
        "outputId": "13f5daf8-0eba-4a57-f224-0269f7be6fd3"
      },
      "execution_count": null,
      "outputs": [
        {
          "output_type": "stream",
          "name": "stdout",
          "text": [
            "Hello->hiBye"
          ]
        }
      ]
    },
    {
      "cell_type": "code",
      "source": [
        "def fmt_dt():\n",
        "  \"\"\"\n",
        "    This function will print the date\n",
        "    in different format\n",
        "  \"\"\"\n",
        "  pass"
      ],
      "metadata": {
        "id": "zmxK7otk-Ir1"
      },
      "execution_count": null,
      "outputs": []
    },
    {
      "cell_type": "code",
      "source": [
        "ab = 10\n",
        "ft = f\"\"\"\n",
        "  Hey hi {ab}\n",
        "  lkgjdsflkg\n",
        "  sf;lgdsfl;gj\n",
        "  ds;llgds;flgk\n",
        "  dsf;flgkdfs;lgk\n",
        "  ds;flfgdfls;kg\n",
        "  dsflkgjlk\n",
        "  dsfgj;\n",
        "\"\"\""
      ],
      "metadata": {
        "id": "-9kj7Gey-Q7Q"
      },
      "execution_count": null,
      "outputs": []
    },
    {
      "cell_type": "code",
      "source": [
        "10"
      ],
      "metadata": {
        "colab": {
          "base_uri": "https://localhost:8080/"
        },
        "id": "jL0pFutQ--bS",
        "outputId": "11ab3ae2-6933-496b-c953-e2e20a299e18"
      },
      "execution_count": null,
      "outputs": [
        {
          "output_type": "execute_result",
          "data": {
            "text/plain": [
              "10"
            ]
          },
          "metadata": {},
          "execution_count": 32
        }
      ]
    },
    {
      "cell_type": "code",
      "source": [
        "'android'"
      ],
      "metadata": {
        "colab": {
          "base_uri": "https://localhost:8080/",
          "height": 35
        },
        "id": "7S-vLaEC_DKC",
        "outputId": "a3c8fd34-79d3-46b7-ee2b-5d264f32bc9c"
      },
      "execution_count": null,
      "outputs": [
        {
          "output_type": "execute_result",
          "data": {
            "text/plain": [
              "'android'"
            ],
            "application/vnd.google.colaboratory.intrinsic+json": {
              "type": "string"
            }
          },
          "metadata": {},
          "execution_count": 33
        }
      ]
    },
    {
      "cell_type": "code",
      "source": [
        "\"\"\"\n",
        "abc\n",
        "\"\"\""
      ],
      "metadata": {
        "id": "M0158PI2_N44"
      },
      "execution_count": null,
      "outputs": []
    }
  ]
}
