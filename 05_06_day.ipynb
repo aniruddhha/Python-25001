{
  "nbformat": 4,
  "nbformat_minor": 0,
  "metadata": {
    "colab": {
      "provenance": []
    },
    "kernelspec": {
      "name": "python3",
      "display_name": "Python 3"
    },
    "language_info": {
      "name": "python"
    }
  },
  "cells": [
    {
      "cell_type": "markdown",
      "source": [
        "# **Methods in Python**"
      ],
      "metadata": {
        "id": "wbJqc--JNyHF"
      }
    },
    {
      "cell_type": "code",
      "source": [
        "num1 = 10\n",
        "num2 = 10\n",
        "\n",
        "res = num1 + num2 # addition logic\n",
        "print(res)"
      ],
      "metadata": {
        "colab": {
          "base_uri": "https://localhost:8080/"
        },
        "id": "PpnDihM-McPn",
        "outputId": "752f4eec-10b5-4441-9670-101facaa70d3"
      },
      "execution_count": null,
      "outputs": [
        {
          "output_type": "stream",
          "name": "stdout",
          "text": [
            "20\n"
          ]
        }
      ]
    },
    {
      "cell_type": "code",
      "source": [
        "num1 = 30\n",
        "num2 = -34\n",
        "\n",
        "res = num1 + num2 #addition logic\n",
        "print(res)"
      ],
      "metadata": {
        "colab": {
          "base_uri": "https://localhost:8080/"
        },
        "id": "rfOh49wJN3al",
        "outputId": "d7a8b6bd-8185-48ff-b461-444ba28bb9b7"
      },
      "execution_count": null,
      "outputs": [
        {
          "output_type": "stream",
          "name": "stdout",
          "text": [
            "-4\n"
          ]
        }
      ]
    },
    {
      "cell_type": "code",
      "source": [
        "num1 = 100\n",
        "num2 = 200\n",
        "\n",
        "res = num1 + num2 # addition logic\n",
        "print(res + 1)"
      ],
      "metadata": {
        "colab": {
          "base_uri": "https://localhost:8080/"
        },
        "id": "lGSedQEBODpr",
        "outputId": "13598b79-fe56-4fa1-8b3d-b1b19f644095"
      },
      "execution_count": null,
      "outputs": [
        {
          "output_type": "stream",
          "name": "stdout",
          "text": [
            "301\n"
          ]
        }
      ]
    },
    {
      "cell_type": "code",
      "source": [
        "# we need a method/function/defination which will accept two numbers\n",
        "# and perform logic inside that function\n",
        "def add_numbers(n1, n2):\n",
        "  r = n1 + n2\n",
        "  print(r)"
      ],
      "metadata": {
        "id": "CHNZtss0OiNZ"
      },
      "execution_count": null,
      "outputs": []
    },
    {
      "cell_type": "code",
      "source": [
        "# calling functions\n",
        "add_numbers(1, 2)\n",
        "add_numbers(1, 1)\n",
        "add_numbers(1, -900)"
      ],
      "metadata": {
        "colab": {
          "base_uri": "https://localhost:8080/"
        },
        "id": "G2cA-K7UO6zL",
        "outputId": "b6413c22-9b34-41bf-fcdc-2cae6b570479"
      },
      "execution_count": null,
      "outputs": [
        {
          "output_type": "stream",
          "name": "stdout",
          "text": [
            "3\n",
            "2\n",
            "-899\n"
          ]
        }
      ]
    },
    {
      "cell_type": "code",
      "source": [
        "def add_numbers_result(n1, n2): # n1 and n2 are input\n",
        "  r = n1 + n2\n",
        "  return r # r is output; we are returning the result to caller"
      ],
      "metadata": {
        "id": "gqV66LgkPnCU"
      },
      "execution_count": null,
      "outputs": []
    },
    {
      "cell_type": "code",
      "source": [
        "r1 = add_numbers_result(1, 2)\n",
        "print(r1 + 1)\n",
        "\n",
        "r2 = add_numbers_result(3, -3)\n",
        "print(r2 + 1)\n",
        "\n",
        "r3 = add_numbers_result(-67, -21)\n",
        "print(r3 + 1)"
      ],
      "metadata": {
        "colab": {
          "base_uri": "https://localhost:8080/"
        },
        "id": "SfB7n7I-P4T2",
        "outputId": "9111d7b2-7ca0-439e-8713-583b939aea22"
      },
      "execution_count": null,
      "outputs": [
        {
          "output_type": "stream",
          "name": "stdout",
          "text": [
            "4\n",
            "1\n",
            "-87\n"
          ]
        }
      ]
    },
    {
      "cell_type": "code",
      "source": [
        "num1 = 90\n",
        "num2 = 89\n",
        "\n",
        "add_numbers_result(num1, num2)"
      ],
      "metadata": {
        "colab": {
          "base_uri": "https://localhost:8080/"
        },
        "id": "DDglGgFPQnb2",
        "outputId": "71a54117-8d3e-4c25-cfe1-ce27a5aef3d7"
      },
      "execution_count": null,
      "outputs": [
        {
          "output_type": "execute_result",
          "data": {
            "text/plain": [
              "179"
            ]
          },
          "metadata": {},
          "execution_count": 18
        }
      ]
    },
    {
      "cell_type": "code",
      "source": [
        "def add_five(n1, n2, n3, n4, n5):\n",
        "  return n1 + n2 + n3 + n4 + n5"
      ],
      "metadata": {
        "id": "HUXL4_0nSgwf"
      },
      "execution_count": null,
      "outputs": []
    },
    {
      "cell_type": "code",
      "source": [
        "def multiply(n1, n2):\n",
        "  return n1 * n2"
      ],
      "metadata": {
        "id": "Z-Ox7Cm5ZFcD"
      },
      "execution_count": null,
      "outputs": []
    },
    {
      "cell_type": "code",
      "source": [
        "print(multiply(10, 5))\n",
        "print(multiply(n1 = 10, n2 = 10)) # named parameters\n",
        "print(multiply(n2 = 10, n1 = 5)) # named parameters"
      ],
      "metadata": {
        "colab": {
          "base_uri": "https://localhost:8080/"
        },
        "id": "1kXPuFcwZOnT",
        "outputId": "f9b56e91-8f83-4744-c112-eaa6fd9b063a"
      },
      "execution_count": null,
      "outputs": [
        {
          "output_type": "stream",
          "name": "stdout",
          "text": [
            "50\n",
            "100\n",
            "50\n"
          ]
        }
      ]
    },
    {
      "cell_type": "code",
      "source": [
        "def div(n1, n2 = 1): # default argument\n",
        "  return n1/n2"
      ],
      "metadata": {
        "id": "Uok39QCiaGUz"
      },
      "execution_count": null,
      "outputs": []
    },
    {
      "cell_type": "code",
      "source": [
        "print(div(4, 2))\n",
        "print(div(n1 = 4)) # if you dont pass n2, python will treat it as 1"
      ],
      "metadata": {
        "colab": {
          "base_uri": "https://localhost:8080/"
        },
        "id": "mrsZQ7BYaMoP",
        "outputId": "2ccf21e2-5027-4125-9ff9-881fcafd2e9a"
      },
      "execution_count": null,
      "outputs": [
        {
          "output_type": "stream",
          "name": "stdout",
          "text": [
            "2.0\n",
            "4.0\n"
          ]
        }
      ]
    },
    {
      "cell_type": "code",
      "source": [
        "print(div(n1 = 4, n2 = 78))\n",
        "print(div(4,78))"
      ],
      "metadata": {
        "colab": {
          "base_uri": "https://localhost:8080/"
        },
        "id": "r2gK_DQDap5n",
        "outputId": "ce6683ee-25a7-4cae-ae68-75d8240023d3"
      },
      "execution_count": null,
      "outputs": [
        {
          "output_type": "stream",
          "name": "stdout",
          "text": [
            "0.05128205128205128\n",
            "0.05128205128205128\n"
          ]
        }
      ]
    },
    {
      "cell_type": "markdown",
      "source": [
        "# **Operators**"
      ],
      "metadata": {
        "id": "emjPEhwcdabv"
      }
    },
    {
      "cell_type": "markdown",
      "source": [
        "***Arithmatic***"
      ],
      "metadata": {
        "id": "tgKwbRAvddFs"
      }
    },
    {
      "cell_type": "code",
      "source": [
        "a = 10\n",
        "b = 3\n",
        "\n",
        "print(a + b) # addition\n",
        "print(a - b) # subtraction\n",
        "print(a * b) # multiplication\n",
        "print(a / b) # division\n",
        "print(a % b) # modulus\n",
        "print(a // b) # floor division\n",
        "print(a ** 2) # exponentiation"
      ],
      "metadata": {
        "colab": {
          "base_uri": "https://localhost:8080/"
        },
        "id": "qutRarKadhLY",
        "outputId": "c02a0e15-3c76-41c5-a1fa-644701afa6a6"
      },
      "execution_count": null,
      "outputs": [
        {
          "output_type": "stream",
          "name": "stdout",
          "text": [
            "13\n",
            "7\n",
            "30\n",
            "3.3333333333333335\n",
            "1\n",
            "3\n",
            "100\n"
          ]
        }
      ]
    },
    {
      "cell_type": "markdown",
      "source": [
        "***Comparision***"
      ],
      "metadata": {
        "id": "fe8vC96edsNd"
      }
    },
    {
      "cell_type": "code",
      "source": [
        "a = 10\n",
        "b = 30\n",
        "\n",
        "print(a == b) # equal to\n",
        "print(a != b) # not equal to\n",
        "print(a > b) # greater than\n",
        "print(a < b) # less than\n",
        "print(a >= b) # greater than or equal to\n",
        "print(a <= b) # less than or equal to\n",
        "\n",
        "c = a == b\n",
        "print(c)"
      ],
      "metadata": {
        "colab": {
          "base_uri": "https://localhost:8080/"
        },
        "id": "uaHpA8S1drxL",
        "outputId": "e4da909c-15cd-4822-daf3-2c43173e0251"
      },
      "execution_count": null,
      "outputs": [
        {
          "output_type": "stream",
          "name": "stdout",
          "text": [
            "False\n",
            "True\n",
            "False\n",
            "True\n",
            "False\n",
            "True\n",
            "False\n"
          ]
        }
      ]
    },
    {
      "cell_type": "markdown",
      "source": [
        "***Logical***"
      ],
      "metadata": {
        "id": "YrlKPDplgYkI"
      }
    },
    {
      "cell_type": "code",
      "source": [
        "a = 10\n",
        "b = 40\n",
        "c = 10\n",
        "\n",
        "# logical operators\n",
        "print(a == b and a == c) # and -> get me Tea AND Samosa = both\n",
        "print(a == b or a == c) # or -> get me Tea OR Samosa = one of it\n",
        "print(not(a == b)) # not"
      ],
      "metadata": {
        "colab": {
          "base_uri": "https://localhost:8080/"
        },
        "id": "QP0_8FjGgYWB",
        "outputId": "ff51d71f-a8fa-4e30-e766-9d4e50a0ee45"
      },
      "execution_count": null,
      "outputs": [
        {
          "output_type": "stream",
          "name": "stdout",
          "text": [
            "False\n",
            "True\n",
            "True\n"
          ]
        }
      ]
    },
    {
      "cell_type": "markdown",
      "source": [
        "***Assignment***"
      ],
      "metadata": {
        "id": "8a6A6ZVyhaqL"
      }
    },
    {
      "cell_type": "code",
      "source": [
        "a = 10\n",
        "\n",
        "a = a ** 2\n",
        "# a += 1\n",
        "print(a)"
      ],
      "metadata": {
        "colab": {
          "base_uri": "https://localhost:8080/"
        },
        "id": "ruGBPawthWTd",
        "outputId": "5bec5cf6-3a80-47b9-d7bf-cf8aa6a1bc25"
      },
      "execution_count": null,
      "outputs": [
        {
          "output_type": "stream",
          "name": "stdout",
          "text": [
            "11\n"
          ]
        }
      ]
    },
    {
      "cell_type": "code",
      "source": [
        "a = 1\n",
        "b = 9\n",
        "c = 8\n",
        "\n",
        "r = a + b * c\n",
        "print(r)\n",
        "\n",
        "r = (a + b) * c\n",
        "print(r)"
      ],
      "metadata": {
        "colab": {
          "base_uri": "https://localhost:8080/"
        },
        "id": "TggqO8VIlIal",
        "outputId": "73971994-47fd-4278-fc16-5259801d4b8b"
      },
      "execution_count": null,
      "outputs": [
        {
          "output_type": "stream",
          "name": "stdout",
          "text": [
            "73\n",
            "80\n"
          ]
        }
      ]
    },
    {
      "cell_type": "markdown",
      "source": [
        "# **Sunday Starts Here**"
      ],
      "metadata": {
        "id": "15UodKHCg9rz"
      }
    },
    {
      "cell_type": "markdown",
      "source": [
        "# ***Conditional Statements***"
      ],
      "metadata": {
        "id": "BHjoifwVhCHU"
      }
    },
    {
      "cell_type": "markdown",
      "source": [
        "***Simple If .. Else***"
      ],
      "metadata": {
        "id": "ZfIz5EOekgzo"
      }
    },
    {
      "cell_type": "code",
      "source": [
        "bal = 10_000\n",
        "\n",
        "if bal > 5_000:\n",
        "  print('Enough Amount')\n",
        "else:\n",
        "  print('Penalty')"
      ],
      "metadata": {
        "colab": {
          "base_uri": "https://localhost:8080/"
        },
        "id": "_POqVNZJg9PH",
        "outputId": "17cd07c4-93e8-46a7-e4d4-a99d060ccfa2"
      },
      "execution_count": 9,
      "outputs": [
        {
          "output_type": "stream",
          "name": "stdout",
          "text": [
            "Enough Amount\n"
          ]
        }
      ]
    },
    {
      "cell_type": "markdown",
      "source": [
        "***If Else Ladder***"
      ],
      "metadata": {
        "id": "qZ8zF9UBkqX5"
      }
    },
    {
      "cell_type": "code",
      "source": [
        "marks = 80\n",
        "\n",
        "if marks >= 60:\n",
        "  print('Good Marks')\n",
        "elif (marks < 60) and (marks >= 50):\n",
        "  print('Just Pass')\n",
        "elif (marks < 50) and (marks >= 40):\n",
        "  print('Pushed to Next Class')\n",
        "else:\n",
        "  print('Fail')"
      ],
      "metadata": {
        "colab": {
          "base_uri": "https://localhost:8080/"
        },
        "id": "eXNjHnRBg3QK",
        "outputId": "6827ad42-b695-4153-a560-2cb2cb9bc6c5"
      },
      "execution_count": 11,
      "outputs": [
        {
          "output_type": "stream",
          "name": "stdout",
          "text": [
            "Good Marks\n"
          ]
        }
      ]
    },
    {
      "cell_type": "markdown",
      "source": [
        "***Nesting***"
      ],
      "metadata": {
        "id": "EodFKex9nvQt"
      }
    },
    {
      "cell_type": "code",
      "source": [
        "day = 12\n",
        "\n",
        "if day < 5:\n",
        "  if day == 1:\n",
        "    print('off')\n",
        "  else:\n",
        "    print('working')\n",
        "else:\n",
        "  print('leave')\n"
      ],
      "metadata": {
        "colab": {
          "base_uri": "https://localhost:8080/"
        },
        "id": "OBoZOY3VnyHk",
        "outputId": "07e64019-d9bd-4d78-8a76-48335a1b3573"
      },
      "execution_count": 14,
      "outputs": [
        {
          "output_type": "stream",
          "name": "stdout",
          "text": [
            "leave\n"
          ]
        }
      ]
    },
    {
      "cell_type": "code",
      "source": [
        "def convert_to_text_day(day_num = 1):\n",
        "  if day_num == 1:\n",
        "    print('Mon')\n",
        "  elif day_num == 2:\n",
        "    print('Tue')\n",
        "  elif day_num == 3:\n",
        "    print('Wed')\n",
        "  elif day_num == 4:\n",
        "     print('Thu')\n",
        "  elif day_num == 5:\n",
        "     print('Fri')\n",
        "  elif day_num == 6:\n",
        "     print('Sat')\n",
        "  elif day_num == 7:\n",
        "    print('Sun')\n",
        "  else:\n",
        "     print('Invalid Day')\n",
        "\n",
        "\n",
        "convert_to_text_day(2)\n",
        "convert_to_text_day()\n",
        "convert_to_text_day(90)"
      ],
      "metadata": {
        "colab": {
          "base_uri": "https://localhost:8080/"
        },
        "id": "e5CfdwVqpJLU",
        "outputId": "93d8d6b4-2baf-4650-e056-195cf7e866c1"
      },
      "execution_count": 18,
      "outputs": [
        {
          "output_type": "stream",
          "name": "stdout",
          "text": [
            "Tue\n",
            "Mon\n",
            "Invalid Day\n"
          ]
        }
      ]
    }
  ]
}