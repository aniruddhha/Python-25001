{
  "nbformat": 4,
  "nbformat_minor": 0,
  "metadata": {
    "colab": {
      "provenance": []
    },
    "kernelspec": {
      "name": "python3",
      "display_name": "Python 3"
    },
    "language_info": {
      "name": "python"
    }
  },
  "cells": [
    {
      "cell_type": "markdown",
      "source": [
        "***03 Day Starts Here***"
      ],
      "metadata": {
        "id": "sBPqEqqKW5L-"
      }
    },
    {
      "cell_type": "markdown",
      "source": [
        "# **👉 Basics Of Variables**\n",
        "\n",
        "Here I will learn how to declare the variables."
      ],
      "metadata": {
        "id": "k2wLmBVFmceJ"
      }
    },
    {
      "cell_type": "code",
      "execution_count": null,
      "metadata": {
        "id": "WDl-ksBrX_rC"
      },
      "outputs": [],
      "source": [
        "emp_salary = 10_000_000"
      ]
    },
    {
      "cell_type": "code",
      "source": [
        "print(f'Employee Salary is {emp_salary}')"
      ],
      "metadata": {
        "colab": {
          "base_uri": "https://localhost:8080/"
        },
        "id": "ThYNVv7Jlt5m",
        "outputId": "622e8831-21ed-42e0-c475-e0bc54e7bd58"
      },
      "execution_count": null,
      "outputs": [
        {
          "output_type": "stream",
          "name": "stdout",
          "text": [
            "Employee Salary is 10000000\n"
          ]
        }
      ]
    },
    {
      "cell_type": "code",
      "source": [
        "print(f\"Employee Salary is {emp_salary}\")"
      ],
      "metadata": {
        "colab": {
          "base_uri": "https://localhost:8080/"
        },
        "id": "tTlWMA60mAF2",
        "outputId": "07d8a4c1-ea51-4508-99cf-3f8d260a6c16"
      },
      "execution_count": null,
      "outputs": [
        {
          "output_type": "stream",
          "name": "stdout",
          "text": [
            "Employee Salary is 10000000\n"
          ]
        }
      ]
    },
    {
      "cell_type": "code",
      "source": [
        "emp_salary = 10_000"
      ],
      "metadata": {
        "id": "22dsD0M-nVhm"
      },
      "execution_count": null,
      "outputs": []
    },
    {
      "cell_type": "markdown",
      "source": [
        "***04 Day Starts Here***"
      ],
      "metadata": {
        "id": "P6O86RVRWyrt"
      }
    },
    {
      "cell_type": "markdown",
      "source": [
        "# **👉 What is Variable?**"
      ],
      "metadata": {
        "id": "FB5UQNUKXEjW"
      }
    },
    {
      "cell_type": "code",
      "source": [
        "EMP_SALARY = 0\n",
        "EMPSALARY = 90\n",
        "EMPsalary = 90\n",
        "empSalary = 90\n",
        "\n",
        "# 12_abc = 30\n",
        "# def = 90 -> is a keyword"
      ],
      "metadata": {
        "colab": {
          "base_uri": "https://localhost:8080/",
          "height": 108
        },
        "id": "JdygkgmDW3NR",
        "outputId": "df18613c-810b-41e0-82f2-94e5e9e5d9b7"
      },
      "execution_count": null,
      "outputs": [
        {
          "output_type": "error",
          "ename": "SyntaxError",
          "evalue": "invalid decimal literal (<ipython-input-1-edb1323b5e8b>, line 6)",
          "traceback": [
            "\u001b[0;36m  File \u001b[0;32m\"<ipython-input-1-edb1323b5e8b>\"\u001b[0;36m, line \u001b[0;32m6\u001b[0m\n\u001b[0;31m    12_abc = 30\u001b[0m\n\u001b[0m      ^\u001b[0m\n\u001b[0;31mSyntaxError\u001b[0m\u001b[0;31m:\u001b[0m invalid decimal literal\n"
          ]
        }
      ]
    },
    {
      "cell_type": "code",
      "source": [
        "import keyword\n",
        "\n",
        "# Get the list of keywords\n",
        "keywords = keyword.kwlist\n",
        "\n",
        "# Print the keywords\n",
        "print(f\"Available keywords in Python: {len(keywords)}\")\n",
        "for ksadjfnaskdfhjksadf in keywords:\n",
        "  print(ksadjfnaskdfhjksadf)"
      ],
      "metadata": {
        "colab": {
          "base_uri": "https://localhost:8080/"
        },
        "id": "y617jsshZhCI",
        "outputId": "9370831c-0c01-406e-c8eb-31cfd0c92d15"
      },
      "execution_count": null,
      "outputs": [
        {
          "output_type": "stream",
          "name": "stdout",
          "text": [
            "Available keywords in Python: 35\n",
            "False\n",
            "None\n",
            "True\n",
            "and\n",
            "as\n",
            "assert\n",
            "async\n",
            "await\n",
            "break\n",
            "class\n",
            "continue\n",
            "def\n",
            "del\n",
            "elif\n",
            "else\n",
            "except\n",
            "finally\n",
            "for\n",
            "from\n",
            "global\n",
            "if\n",
            "import\n",
            "in\n",
            "is\n",
            "lambda\n",
            "nonlocal\n",
            "not\n",
            "or\n",
            "pass\n",
            "raise\n",
            "return\n",
            "try\n",
            "while\n",
            "with\n",
            "yield\n"
          ]
        }
      ]
    },
    {
      "cell_type": "code",
      "source": [
        "abc = 90\n",
        "ABC = 90\n",
        "print(f\"abc is {abc}\")\n",
        "print(abc)"
      ],
      "metadata": {
        "colab": {
          "base_uri": "https://localhost:8080/"
        },
        "id": "v5L40ocnaJzR",
        "outputId": "1f343c16-9655-4434-c2e9-3b94234ef7c6"
      },
      "execution_count": null,
      "outputs": [
        {
          "output_type": "stream",
          "name": "stdout",
          "text": [
            "abc is 90\n",
            "90\n"
          ]
        }
      ]
    },
    {
      "cell_type": "markdown",
      "source": [
        "# **Data Types**"
      ],
      "metadata": {
        "id": "GEeI1P8ld9oU"
      }
    },
    {
      "cell_type": "code",
      "source": [
        "num1 = 10 # we are storing int type of value\n",
        "print(type(num1))"
      ],
      "metadata": {
        "colab": {
          "base_uri": "https://localhost:8080/"
        },
        "id": "IIgrhl5_d8SQ",
        "outputId": "bb557034-4660-45c2-f1f8-422c8611a538"
      },
      "execution_count": null,
      "outputs": [
        {
          "output_type": "stream",
          "name": "stdout",
          "text": [
            "<class 'int'>\n"
          ]
        }
      ]
    },
    {
      "cell_type": "code",
      "source": [
        "nm = 'abc'\n",
        "print(type(nm))"
      ],
      "metadata": {
        "colab": {
          "base_uri": "https://localhost:8080/"
        },
        "id": "ovCPD7jVeIbw",
        "outputId": "50f525e4-231f-4b76-f5b6-556472fbd666"
      },
      "execution_count": null,
      "outputs": [
        {
          "output_type": "stream",
          "name": "stdout",
          "text": [
            "<class 'str'>\n"
          ]
        }
      ]
    },
    {
      "cell_type": "code",
      "source": [
        "speed = 16\n",
        "tyre_pressure = 2.3\n",
        "is_safe = False\n",
        "tyre_mfg = 'Dunlop'"
      ],
      "metadata": {
        "id": "GhVxxEMtfJah"
      },
      "execution_count": null,
      "outputs": []
    },
    {
      "cell_type": "code",
      "source": [
        "speed"
      ],
      "metadata": {
        "colab": {
          "base_uri": "https://localhost:8080/"
        },
        "id": "azbEy1UUfkY6",
        "outputId": "adf55e19-3f1a-46f4-c866-a87b75cdec8d"
      },
      "execution_count": null,
      "outputs": [
        {
          "output_type": "execute_result",
          "data": {
            "text/plain": [
              "16"
            ]
          },
          "metadata": {},
          "execution_count": 11
        }
      ]
    },
    {
      "cell_type": "code",
      "source": [
        "print(type(speed))\n",
        "print(type(tyre_pressure))\n",
        "print(type(is_safe))\n",
        "print(type(tyre_mfg))"
      ],
      "metadata": {
        "colab": {
          "base_uri": "https://localhost:8080/"
        },
        "id": "VC6v7DxEftg_",
        "outputId": "3119a862-473e-484d-a144-d77b4b0a6aac"
      },
      "execution_count": null,
      "outputs": [
        {
          "output_type": "stream",
          "name": "stdout",
          "text": [
            "<class 'int'>\n",
            "<class 'float'>\n",
            "<class 'bool'>\n",
            "<class 'str'>\n"
          ]
        }
      ]
    },
    {
      "cell_type": "markdown",
      "source": [
        "**Dynamically Typed**"
      ],
      "metadata": {
        "id": "p9BGrzCqh6aW"
      }
    },
    {
      "cell_type": "code",
      "source": [
        "a = 20\n",
        "print(type(a)) # a is holding numeric value\n",
        "a = 'abc'\n",
        "print(type(a)) # now a is holding text type of data"
      ],
      "metadata": {
        "colab": {
          "base_uri": "https://localhost:8080/"
        },
        "id": "B7XgsS-jhwak",
        "outputId": "cc85b635-37fd-4a11-aca4-7ac6180298a5"
      },
      "execution_count": null,
      "outputs": [
        {
          "output_type": "stream",
          "name": "stdout",
          "text": [
            "<class 'int'>\n",
            "<class 'str'>\n"
          ]
        }
      ]
    },
    {
      "cell_type": "markdown",
      "source": [
        "**Type Casting**"
      ],
      "metadata": {
        "id": "XakEp0Xgihyc"
      }
    },
    {
      "cell_type": "code",
      "source": [
        "a = 10\n",
        "b = '10'\n",
        "\n",
        "converted_b = int(b) # type casting\n",
        "type_of_new_b = type(converted_b)\n",
        "print(f' Type {type_of_new_b} and Value {converted_b}')"
      ],
      "metadata": {
        "colab": {
          "base_uri": "https://localhost:8080/"
        },
        "id": "B8_dj5Brij9x",
        "outputId": "aae17d74-3d96-4990-e267-f2ab68120e33"
      },
      "execution_count": null,
      "outputs": [
        {
          "output_type": "stream",
          "name": "stdout",
          "text": [
            " Type <class 'int'> and Value 10\n"
          ]
        }
      ]
    },
    {
      "cell_type": "code",
      "source": [
        "color = 10\n",
        "print(type(color))\n",
        "str_color = str(color)\n",
        "print(type(str_color))\n",
        "print(f'Color is {str_color}')"
      ],
      "metadata": {
        "colab": {
          "base_uri": "https://localhost:8080/"
        },
        "id": "E8TSUEgGonEV",
        "outputId": "e4a9838b-fb8e-4250-a78b-d12ae3fe89fe"
      },
      "execution_count": null,
      "outputs": [
        {
          "output_type": "stream",
          "name": "stdout",
          "text": [
            "<class 'int'>\n",
            "<class 'str'>\n",
            "Color is 10\n"
          ]
        }
      ]
    },
    {
      "cell_type": "code",
      "source": [],
      "metadata": {
        "id": "xl1T76eFpGpi"
      },
      "execution_count": null,
      "outputs": []
    }
  ]
}